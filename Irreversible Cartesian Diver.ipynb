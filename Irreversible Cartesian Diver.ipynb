{
 "cells": [
  {
   "cell_type": "markdown",
   "source": [
    "We will solve this problem in two parts:\n",
    "1. Solving the height of the air cavity in the diver\n",
    "2. Solving the motion of the diver\n",
    "\n",
    "We will also assume the diver has a constant cavity area (ie. it is just a prism)\n",
    "\n",
    "For the air bubble, we can equate its internal pressure to the pressure at its base and write boyle's law\n",
    "$$\n",
    "\\begin{align}\n",
    "&P = P_{ext} + \\rho g (x + h) \\\\\n",
    "&P h = P_o h_o\n",
    "\\end{align}\n",
    "$$\n",
    "\n",
    "Solving, we get\n",
    "$$\n",
    "h = \\frac{\\sqrt{4\\rho g h_o P_o + (P_{ext} + \\rho g x)^2} - (P_{ext} + \\rho g x)}{2 \\rho g}\n",
    "$$\n",
    "\n",
    "Now, we can write Newton's second law for the diver to get\n",
    "$$\n",
    "\\begin{align}\n",
    "m \\ddot{x} &= - m g + \\rho g (V_{diver} + A h) \\\\\n",
    "&= - m g + \\rho g (V_{diver} + A \\frac{\\sqrt{4\\rho g h_o P_o + (P_{ext} + \\rho g x)^2} - (P_{ext} + \\rho g x)}{2 \\rho g})\n",
    "\\end{align}\n",
    "$$"
   ],
   "metadata": {
    "collapsed": false
   }
  },
  {
   "cell_type": "code",
   "execution_count": null,
   "metadata": {
    "collapsed": true
   },
   "outputs": [],
   "source": []
  }
 ],
 "metadata": {
  "kernelspec": {
   "display_name": "Python 3",
   "language": "python",
   "name": "python3"
  },
  "language_info": {
   "codemirror_mode": {
    "name": "ipython",
    "version": 2
   },
   "file_extension": ".py",
   "mimetype": "text/x-python",
   "name": "python",
   "nbconvert_exporter": "python",
   "pygments_lexer": "ipython2",
   "version": "2.7.6"
  }
 },
 "nbformat": 4,
 "nbformat_minor": 0
}
